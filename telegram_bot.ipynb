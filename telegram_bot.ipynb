{
 "cells": [
  {
   "metadata": {},
   "cell_type": "markdown",
   "source": [
    "# Telegram Bot\n",
    "https://api.telegram.org/bot{YourBOTToken}/getUpdates"
   ],
   "id": "8a77807f92f26ee"
  },
  {
   "metadata": {
    "ExecuteTime": {
     "end_time": "2024-10-19T16:24:53.549446Z",
     "start_time": "2024-10-19T16:24:53.336655Z"
    }
   },
   "cell_type": "code",
   "source": [
    "import requests\n",
    "import os\n",
    "from dotenv import load_dotenv\n",
    "\n",
    "# Load environment variables from .env file\n",
    "load_dotenv()\n",
    "TELEGRAM_TOKEN = os.getenv(\"TELEGRAM_TOKEN\")\n",
    "base_url = f\"https://api.telegram.org/bot{TELEGRAM_TOKEN}\"\n",
    "\n",
    "base_url = f\"{base_url}/getUpdates\"\n",
    "\n",
    "parameters = {\n",
    "    \"offset\" : \"100\",# not sure if it is working\n",
    "    #\"limit\": 1\n",
    "}\n",
    "\n",
    "resp = requests.get(base_url, data = parameters)\n",
    "#print(resp.text)"
   ],
   "id": "7df9140457caed5e",
   "outputs": [],
   "execution_count": 36
  },
  {
   "metadata": {},
   "cell_type": "markdown",
   "source": [
    "parameters = {\n",
    "    \"chat_id\" : \"468012123\",\n",
    "    \"text\" : \"\"\"\n",
    "    \\U0001F4B0 :s:\n",
    "\\U0001F4DC Cs:\n",
    "\\U0001F4C8 Ds:\n",
    "\\U0001F4C8 U\n",
    "\\U0001F510 :Li\n",
    "\\U0001F984 Un\t\"\"\"\n",
    "}"
   ],
   "id": "ee74bffc753dcd87"
  },
  {
   "metadata": {
    "ExecuteTime": {
     "end_time": "2024-10-19T16:25:02.135348Z",
     "start_time": "2024-10-19T16:25:01.986595Z"
    }
   },
   "cell_type": "code",
   "source": [
    "import requests\n",
    "import json\n",
    "# Load environment variables from .env file\n",
    "load_dotenv()\n",
    "TELEGRAM_TOKEN = os.getenv(\"TELEGRAM_TOKEN\")\n",
    "base_url = f\"https://api.telegram.org/bot{TELEGRAM_TOKEN}\"\n",
    "\n",
    "base_url = f\"{base_url}/sendMessage\"\n",
    "\n",
    "parameters = {\n",
    "    \"chat_id\" : \"468012123\",\n",
    "    \"text\" : \"\"\"\n",
    "           Hello my friend! \\U0001F984\t\"\"\"\n",
    "}\n",
    "\n",
    "resp = requests.get(base_url, data = parameters)\n",
    "#print(resp.text)"
   ],
   "id": "dae4dd3dd616ffdd",
   "outputs": [],
   "execution_count": 37
  },
  {
   "metadata": {
    "ExecuteTime": {
     "end_time": "2024-10-19T14:45:53.429368Z",
     "start_time": "2024-10-19T14:45:51.303720Z"
    }
   },
   "cell_type": "code",
   "source": "!pip install python-telegram-bot",
   "id": "2e0e3b649153d722",
   "outputs": [
    {
     "name": "stdout",
     "output_type": "stream",
     "text": [
      "Collecting python-telegram-bot\r\n",
      "  Downloading python_telegram_bot-21.6-py3-none-any.whl.metadata (17 kB)\r\n",
      "Requirement already satisfied: httpx~=0.27 in /Users/yuiwatanabe/opt/anaconda3/envs/telegram_bot/lib/python3.8/site-packages (from python-telegram-bot) (0.27.0)\r\n",
      "Requirement already satisfied: anyio in /Users/yuiwatanabe/opt/anaconda3/envs/telegram_bot/lib/python3.8/site-packages (from httpx~=0.27->python-telegram-bot) (4.2.0)\r\n",
      "Requirement already satisfied: certifi in /Users/yuiwatanabe/opt/anaconda3/envs/telegram_bot/lib/python3.8/site-packages (from httpx~=0.27->python-telegram-bot) (2024.8.30)\r\n",
      "Requirement already satisfied: httpcore==1.* in /Users/yuiwatanabe/opt/anaconda3/envs/telegram_bot/lib/python3.8/site-packages (from httpx~=0.27->python-telegram-bot) (1.0.2)\r\n",
      "Requirement already satisfied: idna in /Users/yuiwatanabe/opt/anaconda3/envs/telegram_bot/lib/python3.8/site-packages (from httpx~=0.27->python-telegram-bot) (3.7)\r\n",
      "Requirement already satisfied: sniffio in /Users/yuiwatanabe/opt/anaconda3/envs/telegram_bot/lib/python3.8/site-packages (from httpx~=0.27->python-telegram-bot) (1.3.0)\r\n",
      "Requirement already satisfied: h11<0.15,>=0.13 in /Users/yuiwatanabe/opt/anaconda3/envs/telegram_bot/lib/python3.8/site-packages (from httpcore==1.*->httpx~=0.27->python-telegram-bot) (0.14.0)\r\n",
      "Requirement already satisfied: exceptiongroup>=1.0.2 in /Users/yuiwatanabe/opt/anaconda3/envs/telegram_bot/lib/python3.8/site-packages (from anyio->httpx~=0.27->python-telegram-bot) (1.2.0)\r\n",
      "Requirement already satisfied: typing-extensions>=4.1 in /Users/yuiwatanabe/opt/anaconda3/envs/telegram_bot/lib/python3.8/site-packages (from anyio->httpx~=0.27->python-telegram-bot) (4.11.0)\r\n",
      "Downloading python_telegram_bot-21.6-py3-none-any.whl (652 kB)\r\n",
      "\u001B[2K   \u001B[90m━━━━━━━━━━━━━━━━━━━━━━━━━━━━━━━━━━━━━━━━\u001B[0m \u001B[32m652.1/652.1 kB\u001B[0m \u001B[31m15.5 MB/s\u001B[0m eta \u001B[36m0:00:00\u001B[0m\r\n",
      "\u001B[?25hInstalling collected packages: python-telegram-bot\r\n",
      "Successfully installed python-telegram-bot-21.6\r\n"
     ]
    }
   ],
   "execution_count": 11
  },
  {
   "metadata": {
    "ExecuteTime": {
     "end_time": "2024-10-19T15:06:35.431189Z",
     "start_time": "2024-10-19T15:06:35.423502Z"
    }
   },
   "cell_type": "code",
   "source": [
    "from telegram import Update\n",
    "from telegram.ext import Updater, CommandHandler, MessageHandler, CallbackContext, filters, ApplicationBuilder\n",
    "\n",
    "load_dotenv()\n",
    "TELEGRAM_TOKEN = os.getenv(\"TELEGRAM_TOKEN\")\n",
    "def download_voice(update: Update, context: CallbackContext) -> None:\n",
    "    voice_file = update.message.voice.get_file()  # Get the file associated with the voice message\n",
    "    voice_file.download('voice.ogg')  # Download the voice file as 'voice.ogg'\n",
    "    update.message.reply_text(\"Voice message downloaded successfully.\")\n",
    "\n",
    "async def main() -> None:\n",
    "    app = ApplicationBuilder().token(TELEGRAM_TOKEN).build()\n",
    "\n",
    "\n",
    "    app.add_handler(MessageHandler(filters.VOICE, download_voice))\n",
    "\n",
    "    await app.run_polling()\n",
    "    \n"
   ],
   "id": "94acd5fc35f855e1",
   "outputs": [],
   "execution_count": 25
  },
  {
   "metadata": {
    "ExecuteTime": {
     "end_time": "2024-10-19T15:06:44.503271Z",
     "start_time": "2024-10-19T15:06:44.487458Z"
    }
   },
   "cell_type": "code",
   "source": "main()",
   "id": "e215b8a8ba00bfcd",
   "outputs": [
    {
     "data": {
      "text/plain": [
       "<coroutine object main at 0x1106408c0>"
      ]
     },
     "execution_count": 26,
     "metadata": {},
     "output_type": "execute_result"
    }
   ],
   "execution_count": 26
  },
  {
   "metadata": {
    "ExecuteTime": {
     "end_time": "2024-10-19T16:25:16.969627Z",
     "start_time": "2024-10-19T16:25:16.442246Z"
    }
   },
   "cell_type": "code",
   "source": [
    "load_dotenv()\n",
    "TELEGRAM_TOKEN = os.getenv(\"TELEGRAM_TOKEN\")\n",
    "base_url = f\"https://api.telegram.org/bot{TELEGRAM_TOKEN}\"\n",
    "\n",
    "# Step 1: Get updates and extract file_id\n",
    "get_updates_url = f\"{base_url}/getUpdates\"\n",
    "parameters = {\"offset\": \"100\"}\n",
    "resp = requests.get(get_updates_url, params=parameters)\n",
    "updates = resp.json()\n",
    "\n",
    "# Assuming the voice message is in the first update\n",
    "file_id = updates['result'][1]['message']['voice']['file_id']\n",
    "\n",
    "\n",
    "# Step 2: Get file path\n",
    "get_file_url = f\"{base_url}/getFile\"\n",
    "file_params = {\"file_id\": file_id}\n",
    "file_resp = requests.get(get_file_url, params=file_params)\n",
    "file_path = file_resp.json()['result']['file_path']\n",
    "\n",
    "# Step 3: Download the file\n",
    "file_url = f\"https://api.telegram.org/file/bot{TELEGRAM_TOKEN}/{file_path}\"\n",
    "voice_file = requests.get(file_url)\n",
    "\n",
    "# Save the file\n",
    "with open('voice.ogg', 'wb') as f:\n",
    "    f.write(voice_file.content)\n",
    "\n",
    "#print(\"Voice message downloaded successfully.\")"
   ],
   "id": "abc8122c8203cedc",
   "outputs": [],
   "execution_count": 38
  },
  {
   "metadata": {
    "ExecuteTime": {
     "end_time": "2024-10-19T16:25:23.982988Z",
     "start_time": "2024-10-19T16:25:22.136506Z"
    }
   },
   "cell_type": "code",
   "source": [
    "import requests\n",
    "\n",
    "load_dotenv()\n",
    "TELEGRAM_TOKEN = os.getenv(\"TELEGRAM_TOKEN\")\n",
    "base_url = f\"https://api.telegram.org/bot{TELEGRAM_TOKEN}\"\n",
    "\n",
    "# Step 1: Get updates and extract file_id for voice messages\n",
    "get_updates_url = f\"{base_url}/getUpdates\"\n",
    "parameters = {\"offset\": \"100\"}\n",
    "resp = requests.get(get_updates_url, params=parameters)\n",
    "updates = resp.json()\n",
    "\n",
    "# Iterate through updates to find voice messages\n",
    "cnt = 0\n",
    "for update in updates['result']:\n",
    "    if 'voice' in update['message']:\n",
    "        file_id = update['message']['voice']['file_id']\n",
    "        #print(f\"file_id: {file_id}\")\n",
    "\n",
    "        # Step 2: Get file path\n",
    "        get_file_url = f\"{base_url}/getFile\"\n",
    "        file_params = {\"file_id\": file_id}\n",
    "        file_resp = requests.get(get_file_url, params=file_params)\n",
    "        file_path = file_resp.json()['result']['file_path']\n",
    "\n",
    "        # Step 3: Download the file\n",
    "        file_url = f\"https://api.telegram.org/file/bot{TELEGRAM_TOKEN}/{file_path}\"\n",
    "        voice_file = requests.get(file_url)\n",
    "\n",
    "        # Save the file\n",
    "        output = 'voice_' + str(cnt) + '.ogg'\n",
    "        with open(output, 'wb') as f:\n",
    "            f.write(voice_file.content)\n",
    "\n",
    "        cnt += 1\n",
    "        print(\"Voice message downloaded successfully.\")"
   ],
   "id": "47c61e9b5dc698c4",
   "outputs": [
    {
     "name": "stdout",
     "output_type": "stream",
     "text": [
      "Voice message downloaded successfully.\n",
      "Voice message downloaded successfully.\n",
      "Voice message downloaded successfully.\n",
      "Voice message downloaded successfully.\n",
      "Voice message downloaded successfully.\n"
     ]
    }
   ],
   "execution_count": 39
  }
 ],
 "metadata": {
  "kernelspec": {
   "display_name": "Python 3",
   "language": "python",
   "name": "python3"
  },
  "language_info": {
   "codemirror_mode": {
    "name": "ipython",
    "version": 2
   },
   "file_extension": ".py",
   "mimetype": "text/x-python",
   "name": "python",
   "nbconvert_exporter": "python",
   "pygments_lexer": "ipython2",
   "version": "2.7.6"
  }
 },
 "nbformat": 4,
 "nbformat_minor": 5
}
